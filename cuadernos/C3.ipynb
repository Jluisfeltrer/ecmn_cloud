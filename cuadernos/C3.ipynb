{
 "cells": [
  {
   "cell_type": "code",
   "execution_count": 1,
   "id": "192dd6c6",
   "metadata": {},
   "outputs": [],
   "source": [
    "import pandas as pd\n"
   ]
  },
  {
   "cell_type": "code",
   "execution_count": null,
   "id": "7d8fed29",
   "metadata": {},
   "outputs": [],
   "source": [
    "\"\"\"Send a complete request to the server.\"\"\"\n",
    "self._send_request(method, url, body, headers, encode_chunked)"
   ]
  },
  {
   "cell_type": "code",
   "execution_count": 6,
   "id": "5551674a",
   "metadata": {},
   "outputs": [
    {
     "name": "stdout",
     "output_type": "stream",
     "text": [
      "Requirement already satisfied: requests in /Users/jluisfeltrer/Desktop/ecmn_cloud/.ECMN_CLOUD/lib/python3.13/site-packages (2.32.4)\n",
      "Requirement already satisfied: charset_normalizer<4,>=2 in /Users/jluisfeltrer/Desktop/ecmn_cloud/.ECMN_CLOUD/lib/python3.13/site-packages (from requests) (3.4.2)\n",
      "Requirement already satisfied: idna<4,>=2.5 in /Users/jluisfeltrer/Desktop/ecmn_cloud/.ECMN_CLOUD/lib/python3.13/site-packages (from requests) (3.10)\n",
      "Requirement already satisfied: urllib3<3,>=1.21.1 in /Users/jluisfeltrer/Desktop/ecmn_cloud/.ECMN_CLOUD/lib/python3.13/site-packages (from requests) (2.5.0)\n",
      "Requirement already satisfied: certifi>=2017.4.17 in /Users/jluisfeltrer/Desktop/ecmn_cloud/.ECMN_CLOUD/lib/python3.13/site-packages (from requests) (2025.7.14)\n",
      "\n",
      "\u001b[1m[\u001b[0m\u001b[34;49mnotice\u001b[0m\u001b[1;39;49m]\u001b[0m\u001b[39;49m A new release of pip is available: \u001b[0m\u001b[31;49m25.0.1\u001b[0m\u001b[39;49m -> \u001b[0m\u001b[32;49m25.2\u001b[0m\n",
      "\u001b[1m[\u001b[0m\u001b[34;49mnotice\u001b[0m\u001b[1;39;49m]\u001b[0m\u001b[39;49m To update, run: \u001b[0m\u001b[32;49mpip install --upgrade pip\u001b[0m\n",
      "Note: you may need to restart the kernel to use updated packages.\n",
      "                           {\n",
      "  \"code\": \"unauthorized\" NaN\n",
      "  \"message\": \"\"          NaN\n",
      "  \"status\": 401          NaN\n",
      "}                        NaN\n"
     ]
    }
   ],
   "source": [
    "# Enviar solicitud a servidor para cargar .csv\n",
    "# Install the requests module\n",
    "%pip install requests\n",
    "\n",
    "import requests\n",
    "\n",
    "url = \"https://f005.backblazeb2.com/file/datasetsecmn/ecmn/ds_merged_C3.csv\"\n",
    "headers = {}  # Define headers if needed\n",
    "response = requests.get(url, headers=headers)\n",
    "\n",
    "# read the CSV content into a pandas DataFrame\n",
    "from io import StringIO\n",
    "data = StringIO(response.text)\n",
    "df = pd.read_csv(data)  \n",
    "print(df.head())  # Display the first few rows of the DataFrame"
   ]
  },
  {
   "cell_type": "code",
   "execution_count": 7,
   "id": "77cd1b06",
   "metadata": {},
   "outputs": [],
   "source": [
    "df3 = pd.read_csv('/Users/jluisfeltrer/Desktop/Analisis de datos/data_analysis_curso/e-cmn/E-commerce_mkechinov/merged_2019_C1.csv')"
   ]
  },
  {
   "cell_type": "code",
   "execution_count": 8,
   "id": "bab7f250",
   "metadata": {},
   "outputs": [
    {
     "data": {
      "text/plain": [
       "(4, 1)"
      ]
     },
     "execution_count": 8,
     "metadata": {},
     "output_type": "execute_result"
    }
   ],
   "source": [
    "df.shape"
   ]
  },
  {
   "cell_type": "code",
   "execution_count": 9,
   "id": "08ae12a9",
   "metadata": {},
   "outputs": [
    {
     "data": {
      "text/plain": [
       "(109950743, 9)"
      ]
     },
     "execution_count": 9,
     "metadata": {},
     "output_type": "execute_result"
    }
   ],
   "source": [
    "df3.shape"
   ]
  },
  {
   "cell_type": "code",
   "execution_count": 11,
   "id": "da5640c5",
   "metadata": {},
   "outputs": [
    {
     "data": {
      "text/html": [
       "<div>\n",
       "<style scoped>\n",
       "    .dataframe tbody tr th:only-of-type {\n",
       "        vertical-align: middle;\n",
       "    }\n",
       "\n",
       "    .dataframe tbody tr th {\n",
       "        vertical-align: top;\n",
       "    }\n",
       "\n",
       "    .dataframe thead th {\n",
       "        text-align: right;\n",
       "    }\n",
       "</style>\n",
       "<table border=\"1\" class=\"dataframe\">\n",
       "  <thead>\n",
       "    <tr style=\"text-align: right;\">\n",
       "      <th></th>\n",
       "      <th>event_time</th>\n",
       "      <th>event_type</th>\n",
       "      <th>product_id</th>\n",
       "      <th>category_id</th>\n",
       "      <th>category_code</th>\n",
       "      <th>brand</th>\n",
       "      <th>price</th>\n",
       "      <th>user_id</th>\n",
       "      <th>user_session</th>\n",
       "    </tr>\n",
       "  </thead>\n",
       "  <tbody>\n",
       "    <tr>\n",
       "      <th>0</th>\n",
       "      <td>2019-11-01 00:00:00 UTC</td>\n",
       "      <td>view</td>\n",
       "      <td>1003461</td>\n",
       "      <td>2053013555631882655</td>\n",
       "      <td>electronics.smartphone</td>\n",
       "      <td>xiaomi</td>\n",
       "      <td>489.07</td>\n",
       "      <td>520088904</td>\n",
       "      <td>4d3b30da-a5e4-49df-b1a8-ba5943f1dd33</td>\n",
       "    </tr>\n",
       "    <tr>\n",
       "      <th>1</th>\n",
       "      <td>2019-11-01 00:00:00 UTC</td>\n",
       "      <td>view</td>\n",
       "      <td>5000088</td>\n",
       "      <td>2053013566100866035</td>\n",
       "      <td>appliances.sewing_machine</td>\n",
       "      <td>janome</td>\n",
       "      <td>293.65</td>\n",
       "      <td>530496790</td>\n",
       "      <td>8e5f4f83-366c-4f70-860e-ca7417414283</td>\n",
       "    </tr>\n",
       "    <tr>\n",
       "      <th>2</th>\n",
       "      <td>2019-11-01 00:00:01 UTC</td>\n",
       "      <td>view</td>\n",
       "      <td>17302664</td>\n",
       "      <td>2053013553853497655</td>\n",
       "      <td>NaN</td>\n",
       "      <td>creed</td>\n",
       "      <td>28.31</td>\n",
       "      <td>561587266</td>\n",
       "      <td>755422e7-9040-477b-9bd2-6a6e8fd97387</td>\n",
       "    </tr>\n",
       "    <tr>\n",
       "      <th>3</th>\n",
       "      <td>2019-11-01 00:00:01 UTC</td>\n",
       "      <td>view</td>\n",
       "      <td>3601530</td>\n",
       "      <td>2053013563810775923</td>\n",
       "      <td>appliances.kitchen.washer</td>\n",
       "      <td>lg</td>\n",
       "      <td>712.87</td>\n",
       "      <td>518085591</td>\n",
       "      <td>3bfb58cd-7892-48cc-8020-2f17e6de6e7f</td>\n",
       "    </tr>\n",
       "    <tr>\n",
       "      <th>4</th>\n",
       "      <td>2019-11-01 00:00:01 UTC</td>\n",
       "      <td>view</td>\n",
       "      <td>1004775</td>\n",
       "      <td>2053013555631882655</td>\n",
       "      <td>electronics.smartphone</td>\n",
       "      <td>xiaomi</td>\n",
       "      <td>183.27</td>\n",
       "      <td>558856683</td>\n",
       "      <td>313628f1-68b8-460d-84f6-cec7a8796ef2</td>\n",
       "    </tr>\n",
       "  </tbody>\n",
       "</table>\n",
       "</div>"
      ],
      "text/plain": [
       "                event_time event_type  product_id          category_id  \\\n",
       "0  2019-11-01 00:00:00 UTC       view     1003461  2053013555631882655   \n",
       "1  2019-11-01 00:00:00 UTC       view     5000088  2053013566100866035   \n",
       "2  2019-11-01 00:00:01 UTC       view    17302664  2053013553853497655   \n",
       "3  2019-11-01 00:00:01 UTC       view     3601530  2053013563810775923   \n",
       "4  2019-11-01 00:00:01 UTC       view     1004775  2053013555631882655   \n",
       "\n",
       "               category_code   brand   price    user_id  \\\n",
       "0     electronics.smartphone  xiaomi  489.07  520088904   \n",
       "1  appliances.sewing_machine  janome  293.65  530496790   \n",
       "2                        NaN   creed   28.31  561587266   \n",
       "3  appliances.kitchen.washer      lg  712.87  518085591   \n",
       "4     electronics.smartphone  xiaomi  183.27  558856683   \n",
       "\n",
       "                           user_session  \n",
       "0  4d3b30da-a5e4-49df-b1a8-ba5943f1dd33  \n",
       "1  8e5f4f83-366c-4f70-860e-ca7417414283  \n",
       "2  755422e7-9040-477b-9bd2-6a6e8fd97387  \n",
       "3  3bfb58cd-7892-48cc-8020-2f17e6de6e7f  \n",
       "4  313628f1-68b8-460d-84f6-cec7a8796ef2  "
      ]
     },
     "execution_count": 11,
     "metadata": {},
     "output_type": "execute_result"
    }
   ],
   "source": [
    "df3.head()"
   ]
  },
  {
   "cell_type": "code",
   "execution_count": null,
   "id": "f3b947ef",
   "metadata": {},
   "outputs": [],
   "source": []
  }
 ],
 "metadata": {
  "kernelspec": {
   "display_name": ".ECMN_CLOUD",
   "language": "python",
   "name": "python3"
  },
  "language_info": {
   "codemirror_mode": {
    "name": "ipython",
    "version": 3
   },
   "file_extension": ".py",
   "mimetype": "text/x-python",
   "name": "python",
   "nbconvert_exporter": "python",
   "pygments_lexer": "ipython3",
   "version": "3.13.3"
  }
 },
 "nbformat": 4,
 "nbformat_minor": 5
}
