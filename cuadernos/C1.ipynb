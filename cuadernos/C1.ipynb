{
 "cells": [
  {
   "cell_type": "code",
   "execution_count": 2,
   "id": "2366a844",
   "metadata": {},
   "outputs": [],
   "source": [
    "import pandas as pd\n",
    "import numpy as np\n",
    "import matplotlib.pyplot as plt\n",
    "import seaborn as sns\n",
    "from sklearn.preprocessing import StandardScaler\n",
    "from sklearn.decomposition import PCA\n",
    "from sklearn.cluster import KMeans, DBSCAN\n"
   ]
  },
  {
   "cell_type": "code",
   "execution_count": 3,
   "id": "f7a68cd7",
   "metadata": {},
   "outputs": [],
   "source": [
    "df1 = pd.read_csv('/Users/jluisfeltrer/Desktop/Analisis de datos/data_analysis_curso/e-cmn/E-commerce_mkechinov/merged_2019_C1.csv')"
   ]
  },
  {
   "cell_type": "code",
   "execution_count": 4,
   "id": "c0180e86",
   "metadata": {},
   "outputs": [
    {
     "name": "stdout",
     "output_type": "stream",
     "text": [
      "<class 'pandas.core.frame.DataFrame'>\n",
      "RangeIndex: 109950743 entries, 0 to 109950742\n",
      "Data columns (total 9 columns):\n",
      " #   Column         Dtype  \n",
      "---  ------         -----  \n",
      " 0   event_time     object \n",
      " 1   event_type     object \n",
      " 2   product_id     int64  \n",
      " 3   category_id    int64  \n",
      " 4   category_code  object \n",
      " 5   brand          object \n",
      " 6   price          float64\n",
      " 7   user_id        int64  \n",
      " 8   user_session   object \n",
      "dtypes: float64(1), int64(3), object(5)\n",
      "memory usage: 7.4+ GB\n"
     ]
    }
   ],
   "source": [
    "df1.info()"
   ]
  },
  {
   "cell_type": "code",
   "execution_count": 4,
   "id": "ae407678",
   "metadata": {},
   "outputs": [
    {
     "data": {
      "text/html": [
       "<div>\n",
       "<style scoped>\n",
       "    .dataframe tbody tr th:only-of-type {\n",
       "        vertical-align: middle;\n",
       "    }\n",
       "\n",
       "    .dataframe tbody tr th {\n",
       "        vertical-align: top;\n",
       "    }\n",
       "\n",
       "    .dataframe thead th {\n",
       "        text-align: right;\n",
       "    }\n",
       "</style>\n",
       "<table border=\"1\" class=\"dataframe\">\n",
       "  <thead>\n",
       "    <tr style=\"text-align: right;\">\n",
       "      <th></th>\n",
       "      <th>event_time</th>\n",
       "      <th>event_type</th>\n",
       "      <th>product_id</th>\n",
       "      <th>category_id</th>\n",
       "      <th>category_code</th>\n",
       "      <th>brand</th>\n",
       "      <th>price</th>\n",
       "      <th>user_id</th>\n",
       "      <th>user_session</th>\n",
       "    </tr>\n",
       "  </thead>\n",
       "  <tbody>\n",
       "    <tr>\n",
       "      <th>0</th>\n",
       "      <td>2019-11-01 00:00:00 UTC</td>\n",
       "      <td>view</td>\n",
       "      <td>1003461</td>\n",
       "      <td>2053013555631882655</td>\n",
       "      <td>electronics.smartphone</td>\n",
       "      <td>xiaomi</td>\n",
       "      <td>489.07</td>\n",
       "      <td>520088904</td>\n",
       "      <td>4d3b30da-a5e4-49df-b1a8-ba5943f1dd33</td>\n",
       "    </tr>\n",
       "    <tr>\n",
       "      <th>1</th>\n",
       "      <td>2019-11-01 00:00:00 UTC</td>\n",
       "      <td>view</td>\n",
       "      <td>5000088</td>\n",
       "      <td>2053013566100866035</td>\n",
       "      <td>appliances.sewing_machine</td>\n",
       "      <td>janome</td>\n",
       "      <td>293.65</td>\n",
       "      <td>530496790</td>\n",
       "      <td>8e5f4f83-366c-4f70-860e-ca7417414283</td>\n",
       "    </tr>\n",
       "    <tr>\n",
       "      <th>2</th>\n",
       "      <td>2019-11-01 00:00:01 UTC</td>\n",
       "      <td>view</td>\n",
       "      <td>17302664</td>\n",
       "      <td>2053013553853497655</td>\n",
       "      <td>NaN</td>\n",
       "      <td>creed</td>\n",
       "      <td>28.31</td>\n",
       "      <td>561587266</td>\n",
       "      <td>755422e7-9040-477b-9bd2-6a6e8fd97387</td>\n",
       "    </tr>\n",
       "    <tr>\n",
       "      <th>3</th>\n",
       "      <td>2019-11-01 00:00:01 UTC</td>\n",
       "      <td>view</td>\n",
       "      <td>3601530</td>\n",
       "      <td>2053013563810775923</td>\n",
       "      <td>appliances.kitchen.washer</td>\n",
       "      <td>lg</td>\n",
       "      <td>712.87</td>\n",
       "      <td>518085591</td>\n",
       "      <td>3bfb58cd-7892-48cc-8020-2f17e6de6e7f</td>\n",
       "    </tr>\n",
       "    <tr>\n",
       "      <th>4</th>\n",
       "      <td>2019-11-01 00:00:01 UTC</td>\n",
       "      <td>view</td>\n",
       "      <td>1004775</td>\n",
       "      <td>2053013555631882655</td>\n",
       "      <td>electronics.smartphone</td>\n",
       "      <td>xiaomi</td>\n",
       "      <td>183.27</td>\n",
       "      <td>558856683</td>\n",
       "      <td>313628f1-68b8-460d-84f6-cec7a8796ef2</td>\n",
       "    </tr>\n",
       "  </tbody>\n",
       "</table>\n",
       "</div>"
      ],
      "text/plain": [
       "                event_time event_type  product_id          category_id  \\\n",
       "0  2019-11-01 00:00:00 UTC       view     1003461  2053013555631882655   \n",
       "1  2019-11-01 00:00:00 UTC       view     5000088  2053013566100866035   \n",
       "2  2019-11-01 00:00:01 UTC       view    17302664  2053013553853497655   \n",
       "3  2019-11-01 00:00:01 UTC       view     3601530  2053013563810775923   \n",
       "4  2019-11-01 00:00:01 UTC       view     1004775  2053013555631882655   \n",
       "\n",
       "               category_code   brand   price    user_id  \\\n",
       "0     electronics.smartphone  xiaomi  489.07  520088904   \n",
       "1  appliances.sewing_machine  janome  293.65  530496790   \n",
       "2                        NaN   creed   28.31  561587266   \n",
       "3  appliances.kitchen.washer      lg  712.87  518085591   \n",
       "4     electronics.smartphone  xiaomi  183.27  558856683   \n",
       "\n",
       "                           user_session  \n",
       "0  4d3b30da-a5e4-49df-b1a8-ba5943f1dd33  \n",
       "1  8e5f4f83-366c-4f70-860e-ca7417414283  \n",
       "2  755422e7-9040-477b-9bd2-6a6e8fd97387  \n",
       "3  3bfb58cd-7892-48cc-8020-2f17e6de6e7f  \n",
       "4  313628f1-68b8-460d-84f6-cec7a8796ef2  "
      ]
     },
     "execution_count": 4,
     "metadata": {},
     "output_type": "execute_result"
    }
   ],
   "source": [
    "df1.head()"
   ]
  },
  {
   "cell_type": "markdown",
   "id": "068b310c",
   "metadata": {},
   "source": [
    "### Primera parte: Eliminar columnas innecesarias"
   ]
  },
  {
   "cell_type": "code",
   "execution_count": 5,
   "id": "57c50cc1",
   "metadata": {},
   "outputs": [],
   "source": [
    "# Eliminar las columnas 'user_session', 'event_time' y 'category_id' in place true\n",
    "df1.drop(columns=['event_time', 'category_id', 'user_session'], inplace=True)"
   ]
  },
  {
   "cell_type": "code",
   "execution_count": 6,
   "id": "aab14344",
   "metadata": {},
   "outputs": [
    {
     "data": {
      "text/html": [
       "<div>\n",
       "<style scoped>\n",
       "    .dataframe tbody tr th:only-of-type {\n",
       "        vertical-align: middle;\n",
       "    }\n",
       "\n",
       "    .dataframe tbody tr th {\n",
       "        vertical-align: top;\n",
       "    }\n",
       "\n",
       "    .dataframe thead th {\n",
       "        text-align: right;\n",
       "    }\n",
       "</style>\n",
       "<table border=\"1\" class=\"dataframe\">\n",
       "  <thead>\n",
       "    <tr style=\"text-align: right;\">\n",
       "      <th></th>\n",
       "      <th>event_type</th>\n",
       "      <th>product_id</th>\n",
       "      <th>category_code</th>\n",
       "      <th>brand</th>\n",
       "      <th>price</th>\n",
       "      <th>user_id</th>\n",
       "    </tr>\n",
       "  </thead>\n",
       "  <tbody>\n",
       "    <tr>\n",
       "      <th>0</th>\n",
       "      <td>view</td>\n",
       "      <td>1003461</td>\n",
       "      <td>electronics.smartphone</td>\n",
       "      <td>xiaomi</td>\n",
       "      <td>489.07</td>\n",
       "      <td>520088904</td>\n",
       "    </tr>\n",
       "    <tr>\n",
       "      <th>1</th>\n",
       "      <td>view</td>\n",
       "      <td>5000088</td>\n",
       "      <td>appliances.sewing_machine</td>\n",
       "      <td>janome</td>\n",
       "      <td>293.65</td>\n",
       "      <td>530496790</td>\n",
       "    </tr>\n",
       "    <tr>\n",
       "      <th>2</th>\n",
       "      <td>view</td>\n",
       "      <td>17302664</td>\n",
       "      <td>NaN</td>\n",
       "      <td>creed</td>\n",
       "      <td>28.31</td>\n",
       "      <td>561587266</td>\n",
       "    </tr>\n",
       "    <tr>\n",
       "      <th>3</th>\n",
       "      <td>view</td>\n",
       "      <td>3601530</td>\n",
       "      <td>appliances.kitchen.washer</td>\n",
       "      <td>lg</td>\n",
       "      <td>712.87</td>\n",
       "      <td>518085591</td>\n",
       "    </tr>\n",
       "    <tr>\n",
       "      <th>4</th>\n",
       "      <td>view</td>\n",
       "      <td>1004775</td>\n",
       "      <td>electronics.smartphone</td>\n",
       "      <td>xiaomi</td>\n",
       "      <td>183.27</td>\n",
       "      <td>558856683</td>\n",
       "    </tr>\n",
       "  </tbody>\n",
       "</table>\n",
       "</div>"
      ],
      "text/plain": [
       "  event_type  product_id              category_code   brand   price    user_id\n",
       "0       view     1003461     electronics.smartphone  xiaomi  489.07  520088904\n",
       "1       view     5000088  appliances.sewing_machine  janome  293.65  530496790\n",
       "2       view    17302664                        NaN   creed   28.31  561587266\n",
       "3       view     3601530  appliances.kitchen.washer      lg  712.87  518085591\n",
       "4       view     1004775     electronics.smartphone  xiaomi  183.27  558856683"
      ]
     },
     "execution_count": 6,
     "metadata": {},
     "output_type": "execute_result"
    }
   ],
   "source": [
    "df1.head()"
   ]
  },
  {
   "cell_type": "markdown",
   "id": "7c6cd001",
   "metadata": {},
   "source": [
    "### Analisis inicial por columna"
   ]
  },
  {
   "cell_type": "code",
   "execution_count": 8,
   "id": "a1b93087",
   "metadata": {},
   "outputs": [
    {
     "data": {
      "text/plain": [
       "event_type             3\n",
       "product_id        206876\n",
       "category_code        129\n",
       "brand               4302\n",
       "price              82966\n",
       "user_id          5316649\n",
       "dtype: int64"
      ]
     },
     "execution_count": 8,
     "metadata": {},
     "output_type": "execute_result"
    }
   ],
   "source": [
    "# Cuantos valores unicos hay en cada columna\n",
    "df1.nunique()"
   ]
  },
  {
   "cell_type": "code",
   "execution_count": null,
   "id": "4056beaf",
   "metadata": {},
   "outputs": [
    {
     "data": {
      "text/plain": [
       "5316649"
      ]
     },
     "execution_count": 10,
     "metadata": {},
     "output_type": "execute_result"
    }
   ],
   "source": [
    "# Cuantos valores unicos hay en la columna 'user_id'\n",
    "df1['user_id'].nunique()"
   ]
  },
  {
   "cell_type": "code",
   "execution_count": 11,
   "id": "29e86516",
   "metadata": {},
   "outputs": [
    {
     "data": {
      "text/plain": [
       "event_type\n",
       "view        104335509\n",
       "cart          3955446\n",
       "purchase      1659788\n",
       "Name: count, dtype: int64"
      ]
     },
     "execution_count": 11,
     "metadata": {},
     "output_type": "execute_result"
    }
   ],
   "source": [
    "# Cuenta los valores unicos de la columna event_type\n",
    "df1['event_type'].value_counts()"
   ]
  },
  {
   "cell_type": "code",
   "execution_count": 9,
   "id": "9217d7eb",
   "metadata": {},
   "outputs": [
    {
     "data": {
      "text/plain": [
       "event_type\n",
       "view        0.948930\n",
       "cart        0.035975\n",
       "purchase    0.015096\n",
       "Name: proportion, dtype: float64"
      ]
     },
     "execution_count": 9,
     "metadata": {},
     "output_type": "execute_result"
    }
   ],
   "source": [
    "# Porcentaje de cada valor unico en la columna event_type\n",
    "df1['event_type'].value_counts(normalize=True)"
   ]
  },
  {
   "cell_type": "code",
   "execution_count": 9,
   "id": "52ab3534",
   "metadata": {},
   "outputs": [],
   "source": [
    "# crea un df con los porcentajes de cada valor unico en la columna event_type\n",
    "event_type_counts = df1['event_type'].value_counts(normalize=True).reset_index()\n",
    "event_type_counts.columns = ['event_type', 'percentage']"
   ]
  },
  {
   "cell_type": "code",
   "execution_count": 13,
   "id": "b7a4a6a5",
   "metadata": {},
   "outputs": [
    {
     "name": "stderr",
     "output_type": "stream",
     "text": [
      "/var/folders/kw/4wrh588x7g5_4x1y7pjyp2c40000gn/T/ipykernel_38277/2450843099.py:3: FutureWarning: \n",
      "\n",
      "Passing `palette` without assigning `hue` is deprecated and will be removed in v0.14.0. Assign the `y` variable to `hue` and set `legend=False` for the same effect.\n",
      "\n",
      "  sns.barplot(x='percentage', y='event_type', data=event_type_counts, palette='viridis')\n"
     ]
    },
    {
     "data": {
      "image/png": "[encoded data removed]",
      "text/plain": [
       "<Figure size 800x400 with 1 Axes>"
      ]
     },
     "metadata": {},
     "output_type": "display_data"
    }
   ],
   "source": [
    "# visualizar los datos de event_type_counts en un barplot, barras horizontales\n",
    "plt.figure(figsize=(8, 4))\n",
    "sns.barplot(x='percentage', y='event_type', data=event_type_counts, palette='viridis')\n",
    "plt.title('Distribution of Event Types')\n",
    "plt.xlabel('Percentage')\n",
    "plt.ylabel('Event Type')\n",
    "plt.show()  "
   ]
  },
  {
   "cell_type": "code",
   "execution_count": 8,
   "id": "0a95aee7",
   "metadata": {},
   "outputs": [],
   "source": [
    "# Agrupa los valores por 'brand', numero y porcentaje de eventos por marca\n",
    "brand_counts = df1['brand'].value_counts().reset_index()\n",
    "brand_counts.columns = ['brand', 'count']\n",
    "brand_counts['percentage'] = brand_counts['count'] / brand_counts['count'].sum()\n"
   ]
  },
  {
   "cell_type": "code",
   "execution_count": 15,
   "id": "05db73bf",
   "metadata": {},
   "outputs": [],
   "source": [
    "brand_counts.sort_values(by='count', ascending=False, inplace=True)"
   ]
  },
  {
   "cell_type": "code",
   "execution_count": 16,
   "id": "dc10c298",
   "metadata": {},
   "outputs": [
    {
     "name": "stdout",
     "output_type": "stream",
     "text": [
      "<class 'pandas.core.frame.DataFrame'>\n",
      "Index: 4302 entries, 0 to 4301\n",
      "Data columns (total 3 columns):\n",
      " #   Column      Non-Null Count  Dtype  \n",
      "---  ------      --------------  -----  \n",
      " 0   brand       4302 non-null   object \n",
      " 1   count       4302 non-null   int64  \n",
      " 2   percentage  4302 non-null   float64\n",
      "dtypes: float64(1), int64(1), object(1)\n",
      "memory usage: 134.4+ KB\n"
     ]
    }
   ],
   "source": [
    "brand_counts.info()"
   ]
  },
  {
   "cell_type": "code",
   "execution_count": 19,
   "id": "0b3099e8",
   "metadata": {},
   "outputs": [
    {
     "data": {
      "text/html": [
       "<div>\n",
       "<style scoped>\n",
       "    .dataframe tbody tr th:only-of-type {\n",
       "        vertical-align: middle;\n",
       "    }\n",
       "\n",
       "    .dataframe tbody tr th {\n",
       "        vertical-align: top;\n",
       "    }\n",
       "\n",
       "    .dataframe thead th {\n",
       "        text-align: right;\n",
       "    }\n",
       "</style>\n",
       "<table border=\"1\" class=\"dataframe\">\n",
       "  <thead>\n",
       "    <tr style=\"text-align: right;\">\n",
       "      <th></th>\n",
       "      <th>brand</th>\n",
       "      <th>count</th>\n",
       "      <th>percentage</th>\n",
       "    </tr>\n",
       "  </thead>\n",
       "  <tbody>\n",
       "    <tr>\n",
       "      <th>0</th>\n",
       "      <td>samsung</td>\n",
       "      <td>13172020</td>\n",
       "      <td>0.139225</td>\n",
       "    </tr>\n",
       "    <tr>\n",
       "      <th>1</th>\n",
       "      <td>apple</td>\n",
       "      <td>10381933</td>\n",
       "      <td>0.109734</td>\n",
       "    </tr>\n",
       "    <tr>\n",
       "      <th>2</th>\n",
       "      <td>xiaomi</td>\n",
       "      <td>7721825</td>\n",
       "      <td>0.081618</td>\n",
       "    </tr>\n",
       "    <tr>\n",
       "      <th>3</th>\n",
       "      <td>huawei</td>\n",
       "      <td>2521331</td>\n",
       "      <td>0.026650</td>\n",
       "    </tr>\n",
       "    <tr>\n",
       "      <th>4</th>\n",
       "      <td>lucente</td>\n",
       "      <td>1840936</td>\n",
       "      <td>0.019458</td>\n",
       "    </tr>\n",
       "  </tbody>\n",
       "</table>\n",
       "</div>"
      ],
      "text/plain": [
       "     brand     count  percentage\n",
       "0  samsung  13172020    0.139225\n",
       "1    apple  10381933    0.109734\n",
       "2   xiaomi   7721825    0.081618\n",
       "3   huawei   2521331    0.026650\n",
       "4  lucente   1840936    0.019458"
      ]
     },
     "execution_count": 19,
     "metadata": {},
     "output_type": "execute_result"
    }
   ],
   "source": [
    "brand_counts.head()"
   ]
  },
  {
   "cell_type": "code",
   "execution_count": 16,
   "id": "e310ac8c",
   "metadata": {},
   "outputs": [],
   "source": [
    "# multiplicar la columna 'percentage' por 100 para que sea un porcentaje\n",
    "brand_counts['percentage'] = brand_counts['percentage'] * 100"
   ]
  },
  {
   "cell_type": "code",
   "execution_count": 17,
   "id": "9c3e21c2",
   "metadata": {},
   "outputs": [
    {
     "data": {
      "text/html": [
       "<div>\n",
       "<style scoped>\n",
       "    .dataframe tbody tr th:only-of-type {\n",
       "        vertical-align: middle;\n",
       "    }\n",
       "\n",
       "    .dataframe tbody tr th {\n",
       "        vertical-align: top;\n",
       "    }\n",
       "\n",
       "    .dataframe thead th {\n",
       "        text-align: right;\n",
       "    }\n",
       "</style>\n",
       "<table border=\"1\" class=\"dataframe\">\n",
       "  <thead>\n",
       "    <tr style=\"text-align: right;\">\n",
       "      <th></th>\n",
       "      <th>brand</th>\n",
       "      <th>count</th>\n",
       "      <th>percentage</th>\n",
       "    </tr>\n",
       "  </thead>\n",
       "  <tbody>\n",
       "    <tr>\n",
       "      <th>0</th>\n",
       "      <td>samsung</td>\n",
       "      <td>13172020</td>\n",
       "      <td>13.92</td>\n",
       "    </tr>\n",
       "    <tr>\n",
       "      <th>1</th>\n",
       "      <td>apple</td>\n",
       "      <td>10381933</td>\n",
       "      <td>10.97</td>\n",
       "    </tr>\n",
       "    <tr>\n",
       "      <th>2</th>\n",
       "      <td>xiaomi</td>\n",
       "      <td>7721825</td>\n",
       "      <td>8.16</td>\n",
       "    </tr>\n",
       "    <tr>\n",
       "      <th>3</th>\n",
       "      <td>huawei</td>\n",
       "      <td>2521331</td>\n",
       "      <td>2.66</td>\n",
       "    </tr>\n",
       "    <tr>\n",
       "      <th>4</th>\n",
       "      <td>lucente</td>\n",
       "      <td>1840936</td>\n",
       "      <td>1.95</td>\n",
       "    </tr>\n",
       "    <tr>\n",
       "      <th>5</th>\n",
       "      <td>lg</td>\n",
       "      <td>1659394</td>\n",
       "      <td>1.75</td>\n",
       "    </tr>\n",
       "    <tr>\n",
       "      <th>6</th>\n",
       "      <td>bosch</td>\n",
       "      <td>1532149</td>\n",
       "      <td>1.62</td>\n",
       "    </tr>\n",
       "    <tr>\n",
       "      <th>7</th>\n",
       "      <td>oppo</td>\n",
       "      <td>1294585</td>\n",
       "      <td>1.37</td>\n",
       "    </tr>\n",
       "    <tr>\n",
       "      <th>8</th>\n",
       "      <td>sony</td>\n",
       "      <td>1255101</td>\n",
       "      <td>1.33</td>\n",
       "    </tr>\n",
       "    <tr>\n",
       "      <th>9</th>\n",
       "      <td>acer</td>\n",
       "      <td>1127129</td>\n",
       "      <td>1.19</td>\n",
       "    </tr>\n",
       "  </tbody>\n",
       "</table>\n",
       "</div>"
      ],
      "text/plain": [
       "     brand     count  percentage\n",
       "0  samsung  13172020       13.92\n",
       "1    apple  10381933       10.97\n",
       "2   xiaomi   7721825        8.16\n",
       "3   huawei   2521331        2.66\n",
       "4  lucente   1840936        1.95\n",
       "5       lg   1659394        1.75\n",
       "6    bosch   1532149        1.62\n",
       "7     oppo   1294585        1.37\n",
       "8     sony   1255101        1.33\n",
       "9     acer   1127129        1.19"
      ]
     },
     "execution_count": 17,
     "metadata": {},
     "output_type": "execute_result"
    }
   ],
   "source": [
    "brand_counts.head(10).round(2)"
   ]
  },
  {
   "cell_type": "code",
   "execution_count": 10,
   "id": "63cee11c",
   "metadata": {},
   "outputs": [
    {
     "name": "stderr",
     "output_type": "stream",
     "text": [
      "/var/folders/kw/4wrh588x7g5_4x1y7pjyp2c40000gn/T/ipykernel_43354/1221008670.py:3: FutureWarning: \n",
      "\n",
      "Passing `palette` without assigning `hue` is deprecated and will be removed in v0.14.0. Assign the `y` variable to `hue` and set `legend=False` for the same effect.\n",
      "\n",
      "  sns.barplot(x='count', y='brand', data=brand_counts.head(10), palette='viridis')\n"
     ]
    },
    {
     "data": {
      "image/png": "[encoded data removed]",
      "text/plain": [
       "<Figure size 1200x600 with 1 Axes>"
      ]
     },
     "metadata": {},
     "output_type": "display_data"
    }
   ],
   "source": [
    "# Graficar las 10 marcas con mas eventos\n",
    "plt.figure(figsize=(12, 6))\n",
    "sns.barplot(x='count', y='brand', data=brand_counts.head(10), palette='viridis')\n",
    "plt.title('Top 10 Brands by Event Count')\n",
    "plt.xlabel('Event Count')\n",
    "plt.ylabel('Brand')\n",
    "plt.show()  "
   ]
  },
  {
   "cell_type": "code",
   "execution_count": 18,
   "id": "5e4fe459",
   "metadata": {},
   "outputs": [
    {
     "data": {
      "text/html": [
       "<div>\n",
       "<style scoped>\n",
       "    .dataframe tbody tr th:only-of-type {\n",
       "        vertical-align: middle;\n",
       "    }\n",
       "\n",
       "    .dataframe tbody tr th {\n",
       "        vertical-align: top;\n",
       "    }\n",
       "\n",
       "    .dataframe thead th {\n",
       "        text-align: right;\n",
       "    }\n",
       "</style>\n",
       "<table border=\"1\" class=\"dataframe\">\n",
       "  <thead>\n",
       "    <tr style=\"text-align: right;\">\n",
       "      <th></th>\n",
       "      <th>event_type</th>\n",
       "      <th>product_id</th>\n",
       "      <th>category_code</th>\n",
       "      <th>brand</th>\n",
       "      <th>price</th>\n",
       "      <th>user_id</th>\n",
       "    </tr>\n",
       "  </thead>\n",
       "  <tbody>\n",
       "    <tr>\n",
       "      <th>0</th>\n",
       "      <td>view</td>\n",
       "      <td>1003461</td>\n",
       "      <td>electronics.smartphone</td>\n",
       "      <td>xiaomi</td>\n",
       "      <td>489.07</td>\n",
       "      <td>520088904</td>\n",
       "    </tr>\n",
       "    <tr>\n",
       "      <th>1</th>\n",
       "      <td>view</td>\n",
       "      <td>5000088</td>\n",
       "      <td>appliances.sewing_machine</td>\n",
       "      <td>janome</td>\n",
       "      <td>293.65</td>\n",
       "      <td>530496790</td>\n",
       "    </tr>\n",
       "    <tr>\n",
       "      <th>2</th>\n",
       "      <td>view</td>\n",
       "      <td>17302664</td>\n",
       "      <td>NaN</td>\n",
       "      <td>creed</td>\n",
       "      <td>28.31</td>\n",
       "      <td>561587266</td>\n",
       "    </tr>\n",
       "    <tr>\n",
       "      <th>3</th>\n",
       "      <td>view</td>\n",
       "      <td>3601530</td>\n",
       "      <td>appliances.kitchen.washer</td>\n",
       "      <td>lg</td>\n",
       "      <td>712.87</td>\n",
       "      <td>518085591</td>\n",
       "    </tr>\n",
       "    <tr>\n",
       "      <th>4</th>\n",
       "      <td>view</td>\n",
       "      <td>1004775</td>\n",
       "      <td>electronics.smartphone</td>\n",
       "      <td>xiaomi</td>\n",
       "      <td>183.27</td>\n",
       "      <td>558856683</td>\n",
       "    </tr>\n",
       "  </tbody>\n",
       "</table>\n",
       "</div>"
      ],
      "text/plain": [
       "  event_type  product_id              category_code   brand   price    user_id\n",
       "0       view     1003461     electronics.smartphone  xiaomi  489.07  520088904\n",
       "1       view     5000088  appliances.sewing_machine  janome  293.65  530496790\n",
       "2       view    17302664                        NaN   creed   28.31  561587266\n",
       "3       view     3601530  appliances.kitchen.washer      lg  712.87  518085591\n",
       "4       view     1004775     electronics.smartphone  xiaomi  183.27  558856683"
      ]
     },
     "execution_count": 18,
     "metadata": {},
     "output_type": "execute_result"
    }
   ],
   "source": [
    "df1.head()"
   ]
  },
  {
   "cell_type": "code",
   "execution_count": 26,
   "id": "4e8eac3e",
   "metadata": {},
   "outputs": [],
   "source": [
    "# sacar en un df las 10 categorias con mas eventos\n",
    "category_counts = df1['category_code'].value_counts().reset_index()\n",
    "category_counts.columns = ['category_code', 'count']\n",
    "category_counts['percentage'] = category_counts['count'] / category_counts['count'].sum()\n",
    "category_counts.sort_values(by='count', ascending=False, inplace=True)\n",
    "category_counts['percentage'] = category_counts['percentage'] * 100\n"
   ]
  },
  {
   "cell_type": "code",
   "execution_count": 27,
   "id": "f27739bd",
   "metadata": {},
   "outputs": [
    {
     "data": {
      "text/html": [
       "<div>\n",
       "<style scoped>\n",
       "    .dataframe tbody tr th:only-of-type {\n",
       "        vertical-align: middle;\n",
       "    }\n",
       "\n",
       "    .dataframe tbody tr th {\n",
       "        vertical-align: top;\n",
       "    }\n",
       "\n",
       "    .dataframe thead th {\n",
       "        text-align: right;\n",
       "    }\n",
       "</style>\n",
       "<table border=\"1\" class=\"dataframe\">\n",
       "  <thead>\n",
       "    <tr style=\"text-align: right;\">\n",
       "      <th></th>\n",
       "      <th>category_code</th>\n",
       "      <th>count</th>\n",
       "      <th>percentage</th>\n",
       "    </tr>\n",
       "  </thead>\n",
       "  <tbody>\n",
       "    <tr>\n",
       "      <th>0</th>\n",
       "      <td>electronics.smartphone</td>\n",
       "      <td>27882231</td>\n",
       "      <td>37.41</td>\n",
       "    </tr>\n",
       "    <tr>\n",
       "      <th>1</th>\n",
       "      <td>electronics.clocks</td>\n",
       "      <td>3397999</td>\n",
       "      <td>4.56</td>\n",
       "    </tr>\n",
       "    <tr>\n",
       "      <th>2</th>\n",
       "      <td>electronics.video.tv</td>\n",
       "      <td>3321796</td>\n",
       "      <td>4.46</td>\n",
       "    </tr>\n",
       "    <tr>\n",
       "      <th>3</th>\n",
       "      <td>computers.notebook</td>\n",
       "      <td>3318177</td>\n",
       "      <td>4.45</td>\n",
       "    </tr>\n",
       "    <tr>\n",
       "      <th>4</th>\n",
       "      <td>electronics.audio.headphone</td>\n",
       "      <td>2917065</td>\n",
       "      <td>3.91</td>\n",
       "    </tr>\n",
       "    <tr>\n",
       "      <th>5</th>\n",
       "      <td>apparel.shoes</td>\n",
       "      <td>2650791</td>\n",
       "      <td>3.56</td>\n",
       "    </tr>\n",
       "    <tr>\n",
       "      <th>6</th>\n",
       "      <td>appliances.environment.vacuum</td>\n",
       "      <td>2329728</td>\n",
       "      <td>3.13</td>\n",
       "    </tr>\n",
       "    <tr>\n",
       "      <th>7</th>\n",
       "      <td>appliances.kitchen.refrigerators</td>\n",
       "      <td>2314917</td>\n",
       "      <td>3.11</td>\n",
       "    </tr>\n",
       "    <tr>\n",
       "      <th>8</th>\n",
       "      <td>appliances.kitchen.washer</td>\n",
       "      <td>2273270</td>\n",
       "      <td>3.05</td>\n",
       "    </tr>\n",
       "    <tr>\n",
       "      <th>9</th>\n",
       "      <td>computers.desktop</td>\n",
       "      <td>1114744</td>\n",
       "      <td>1.50</td>\n",
       "    </tr>\n",
       "  </tbody>\n",
       "</table>\n",
       "</div>"
      ],
      "text/plain": [
       "                      category_code     count  percentage\n",
       "0            electronics.smartphone  27882231       37.41\n",
       "1                electronics.clocks   3397999        4.56\n",
       "2              electronics.video.tv   3321796        4.46\n",
       "3                computers.notebook   3318177        4.45\n",
       "4       electronics.audio.headphone   2917065        3.91\n",
       "5                     apparel.shoes   2650791        3.56\n",
       "6     appliances.environment.vacuum   2329728        3.13\n",
       "7  appliances.kitchen.refrigerators   2314917        3.11\n",
       "8         appliances.kitchen.washer   2273270        3.05\n",
       "9                 computers.desktop   1114744        1.50"
      ]
     },
     "execution_count": 27,
     "metadata": {},
     "output_type": "execute_result"
    }
   ],
   "source": [
    "category_counts.head(10).round(2)"
   ]
  },
  {
   "cell_type": "code",
   "execution_count": 31,
   "id": "99b06af7",
   "metadata": {},
   "outputs": [
    {
     "name": "stderr",
     "output_type": "stream",
     "text": [
      "/var/folders/kw/4wrh588x7g5_4x1y7pjyp2c40000gn/T/ipykernel_43354/2884043529.py:3: FutureWarning: \n",
      "\n",
      "Passing `palette` without assigning `hue` is deprecated and will be removed in v0.14.0. Assign the `y` variable to `hue` and set `legend=False` for the same effect.\n",
      "\n",
      "  sns.barplot(x='percentage', y='category_code', data=category_counts.head(10), palette='viridis')\n"
     ]
    },
    {
     "data": {
      "image/png": "[encoded data removed]",
      "text/plain": [
       "<Figure size 1200x600 with 1 Axes>"
      ]
     },
     "metadata": {},
     "output_type": "display_data"
    }
   ],
   "source": [
    "# barplot de las 10 categorias con mas eventos\n",
    "plt.figure(figsize=(12, 6))\n",
    "sns.barplot(x='percentage', y='category_code', data=category_counts.head(10), palette='viridis')\n",
    "plt.title('Top 10 Categories by Event Percentage')\n",
    "plt.xlabel('percentage')\n",
    "plt.ylabel('Category Code')\n",
    "plt.show()"
   ]
  },
  {
   "cell_type": "code",
   "execution_count": null,
   "id": "6ce83c3e",
   "metadata": {},
   "outputs": [],
   "source": [
    "# 10 users con mas eventos, y porcentaje por tipo de evento para cada uno\n",
    "top_users = df1['user_id'].value_counts().head(10).index\n",
    "top_users_df = df1[df1['user_id'].isin(top_users)]\n",
    "top_users_event_counts = top_users_df['event_type'].value_counts(normalize=True).reset_index()\n",
    "top_users_event_counts.columns = ['event_type', 'percentage']\n"
   ]
  },
  {
   "cell_type": "markdown",
   "id": "e9263b3f",
   "metadata": {},
   "source": [
    "### Notas:\n",
    "1.  Durante octubre y noviembre 2019, se registraron 109.950.742 eventos, de 5.316.649 clientes unicos\n",
    "2.  Los valores Unicos de tipo de evento son 'view', 'cart' y 'purchase', con la siguiente proporcion:\n",
    "    view        104335509\n",
    "    cart          3955446\n",
    "    purchase      1659788\n",
    "    view        0.948930\n",
    "    cart        0.035975\n",
    "    purchase    0.015096\n",
    "3. Las 10 marcas con mas eventos en esta tienda:\n",
    "\tbrand\tcount\tpercentage\n",
    "0\tsamsung\t13172020\t13.92\n",
    "1\tapple\t10381933\t10.97\n",
    "2\txiaomi\t7721825\t8.16\n",
    "3\thuawei\t2521331\t2.66\n",
    "4\tlucente\t1840936\t1.95\n",
    "5\tlg\t1659394\t1.75\n",
    "6\tbosch\t1532149\t1.62\n",
    "7\toppo\t1294585\t1.37\n",
    "8\tsony\t1255101\t1.33\n",
    "9\tacer\t1127129\t1.19\n",
    "4. Las 10 categorias con mas eventos son:\n",
    "category_code\tcount\tpercentage\n",
    "0\telectronics.smartphone\t27882231\t37.41\n",
    "1\telectronics.clocks\t3397999\t4.56\n",
    "2\telectronics.video.tv\t3321796\t4.46\n",
    "3\tcomputers.notebook\t3318177\t4.45\n",
    "4\telectronics.audio.headphone\t2917065\t3.91\n",
    "5\tapparel.shoes\t2650791\t3.56\n",
    "6\tappliances.environment.vacuum\t2329728\t3.13\n",
    "7\tappliances.kitchen.refrigerators\t2314917\t3.11\n",
    "8\tappliances.kitchen.washer\t2273270\t3.05\n",
    "9\tcomputers.desktop\t1114744\t1.50\n"
   ]
  },
  {
   "cell_type": "code",
   "execution_count": null,
   "id": "b54d8ab3",
   "metadata": {},
   "outputs": [],
   "source": []
  },
  {
   "cell_type": "code",
   "execution_count": null,
   "id": "d00d1b4f",
   "metadata": {},
   "outputs": [],
   "source": []
  }
 ],
 "metadata": {
  "kernelspec": {
   "display_name": ".ECMN_CLOUD",
   "language": "python",
   "name": "python3"
  },
  "language_info": {
   "codemirror_mode": {
    "name": "ipython",
    "version": 3
   },
   "file_extension": ".py",
   "mimetype": "text/x-python",
   "name": "python",
   "nbconvert_exporter": "python",
   "pygments_lexer": "ipython3",
   "version": "3.13.3"
  }
 },
 "nbformat": 4,
 "nbformat_minor": 5
}
